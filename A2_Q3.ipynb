{
  "nbformat": 4,
  "nbformat_minor": 0,
  "metadata": {
    "colab": {
      "provenance": [],
      "collapsed_sections": [],
      "include_colab_link": true
    },
    "kernelspec": {
      "name": "python3",
      "display_name": "Python 3"
    },
    "language_info": {
      "name": "python"
    }
  },
  "cells": [
    {
      "cell_type": "markdown",
      "metadata": {
        "id": "view-in-github",
        "colab_type": "text"
      },
      "source": [
        "<a href=\"https://colab.research.google.com/github/swaragandhi5/Shubhlaxmi/blob/master/A2_Q3.ipynb\" target=\"_parent\"><img src=\"https://colab.research.google.com/assets/colab-badge.svg\" alt=\"Open In Colab\"/></a>"
      ]
    },
    {
      "cell_type": "markdown",
      "source": [
        "# Assignment 2 - Question 3 "
      ],
      "metadata": {
        "id": "45bhGak5HYBb"
      }
    },
    {
      "cell_type": "markdown",
      "source": [
        "**Designing Radial Basis Function (RBF) - Neural Network based on Gaussian Kernel Funtion** \n",
        "\n",
        "\n",
        "*   It is a feed forward network for classification of non-linear data. \n",
        "*   It has one hidden layer.\n",
        "\n"
      ],
      "metadata": {
        "id": "SEVK79OvHqOS"
      }
    },
    {
      "cell_type": "code",
      "execution_count": null,
      "metadata": {
        "id": "ujpGsu9twq8F"
      },
      "outputs": [],
      "source": [
        "#Importing all the important libraries. \n",
        "import pandas as pd\n",
        "import numpy as np\n",
        "\n",
        "from sklearn.model_selection import train_test_split\n",
        "from sklearn.cluster import KMeans\n",
        "import matplotlib.pyplot as plt\n",
        "import random\n",
        "import math\n",
        "from sklearn.metrics import mean_squared_error, accuracy_score\n",
        "from scipy.linalg import norm, pinv"
      ]
    },
    {
      "cell_type": "markdown",
      "source": [
        "Preparing Training and Testing data\n",
        "\n"
      ],
      "metadata": {
        "id": "uzWX51HPEsgW"
      }
    },
    {
      "cell_type": "code",
      "source": [
        "x = []\n",
        "xi = []\n",
        "xj = []\n",
        "y = []\n",
        "\n",
        "for i in range(0,21):\n",
        "  for j in range(0,21):\n",
        "    x_i = round(-2+0.2*i,1)\n",
        "    x_j = round(-2+0.2*j,1)\n",
        "    \n",
        "    if (x_i >= -2) and (x_i <= 2) and (x_j >= -2) and (x_j <= 2):\n",
        "      xi.append(x_i)\n",
        "      xj.append(x_j)\n",
        "      x.append(np.array([x_i,x_j]))\n",
        "\n",
        "      y_i = (x_i**2) + (x_j**2)\n",
        "\n",
        "      if y_i <= 1:\n",
        "        y.append(1)\n",
        "      else:\n",
        "        y.append(-1)\n",
        "random.shuffle(x)\n",
        "x_data = np.array(x)\n",
        "y_data = np.array(y)\n",
        "#Printing specific number of output so have a look on how data looks. \n",
        "print(x_data[:10]) \n",
        "print(y_data)\n",
        "\n"
      ],
      "metadata": {
        "colab": {
          "base_uri": "https://localhost:8080/"
        },
        "id": "zOM6i7i6mFx-",
        "outputId": "b215d508-8afa-4c22-e4b9-a6dbf6088f72"
      },
      "execution_count": null,
      "outputs": [
        {
          "output_type": "stream",
          "name": "stdout",
          "text": [
            "[[ 0.  -0.8]\n",
            " [ 1.8  0.6]\n",
            " [-0.6  0. ]\n",
            " [ 0.2  1.6]\n",
            " [ 0.2 -1.6]\n",
            " [ 1.2 -2. ]\n",
            " [ 1.2  0. ]\n",
            " [ 2.  -2. ]\n",
            " [-0.4  0.6]\n",
            " [ 0.2 -0.6]]\n",
            "[-1 -1 -1 -1 -1 -1 -1 -1 -1 -1 -1 -1 -1 -1 -1 -1 -1 -1 -1 -1 -1 -1 -1 -1\n",
            " -1 -1 -1 -1 -1 -1 -1 -1 -1 -1 -1 -1 -1 -1 -1 -1 -1 -1 -1 -1 -1 -1 -1 -1\n",
            " -1 -1 -1 -1 -1 -1 -1 -1 -1 -1 -1 -1 -1 -1 -1 -1 -1 -1 -1 -1 -1 -1 -1 -1\n",
            " -1 -1 -1 -1 -1 -1 -1 -1 -1 -1 -1 -1 -1 -1 -1 -1 -1 -1 -1 -1 -1 -1 -1 -1\n",
            " -1 -1 -1 -1 -1 -1 -1 -1 -1 -1 -1 -1 -1 -1 -1 -1 -1 -1 -1  1 -1 -1 -1 -1\n",
            " -1 -1 -1 -1 -1 -1 -1 -1 -1 -1 -1 -1 -1  1  1  1  1  1  1  1 -1 -1 -1 -1\n",
            " -1 -1 -1 -1 -1 -1 -1 -1 -1  1  1  1  1  1  1  1  1  1 -1 -1 -1 -1 -1 -1\n",
            " -1 -1 -1 -1 -1 -1  1  1  1  1  1  1  1  1  1 -1 -1 -1 -1 -1 -1 -1 -1 -1\n",
            " -1 -1 -1  1  1  1  1  1  1  1  1  1 -1 -1 -1 -1 -1 -1 -1 -1 -1 -1 -1  1\n",
            "  1  1  1  1  1  1  1  1  1  1 -1 -1 -1 -1 -1 -1 -1 -1 -1 -1 -1  1  1  1\n",
            "  1  1  1  1  1  1 -1 -1 -1 -1 -1 -1 -1 -1 -1 -1 -1 -1  1  1  1  1  1  1\n",
            "  1  1  1 -1 -1 -1 -1 -1 -1 -1 -1 -1 -1 -1 -1  1  1  1  1  1  1  1  1  1\n",
            " -1 -1 -1 -1 -1 -1 -1 -1 -1 -1 -1 -1 -1  1  1  1  1  1  1  1 -1 -1 -1 -1\n",
            " -1 -1 -1 -1 -1 -1 -1 -1 -1 -1 -1 -1 -1  1 -1 -1 -1 -1 -1 -1 -1 -1 -1 -1\n",
            " -1 -1 -1 -1 -1 -1 -1 -1 -1 -1 -1 -1 -1 -1 -1 -1 -1 -1 -1 -1 -1 -1 -1 -1\n",
            " -1 -1 -1 -1 -1 -1 -1 -1 -1 -1 -1 -1 -1 -1 -1 -1 -1 -1 -1 -1 -1 -1 -1 -1\n",
            " -1 -1 -1 -1 -1 -1 -1 -1 -1 -1 -1 -1 -1 -1 -1 -1 -1 -1 -1 -1 -1 -1 -1 -1\n",
            " -1 -1 -1 -1 -1 -1 -1 -1 -1 -1 -1 -1 -1 -1 -1 -1 -1 -1 -1 -1 -1 -1 -1 -1\n",
            " -1 -1 -1 -1 -1 -1 -1 -1 -1]\n"
          ]
        }
      ]
    },
    {
      "cell_type": "markdown",
      "source": [
        "Splitting the data into train and test i.e 80% and 20% where training data is 352 and testing is 89 to be specific. "
      ],
      "metadata": {
        "id": "qsrqdvXrLlUW"
      }
    },
    {
      "cell_type": "code",
      "source": [
        "x_train, x_test, y_train, y_test = train_test_split(x_data, y_data, test_size=0.2, random_state=81)\n",
        "x_train.shape"
      ],
      "metadata": {
        "colab": {
          "base_uri": "https://localhost:8080/"
        },
        "id": "mWUvweKpqhnq",
        "outputId": "f5f62263-4167-45ca-bc1c-9583fe21f382"
      },
      "execution_count": null,
      "outputs": [
        {
          "output_type": "execute_result",
          "data": {
            "text/plain": [
              "(352, 2)"
            ]
          },
          "metadata": {},
          "execution_count": 79
        }
      ]
    },
    {
      "cell_type": "markdown",
      "source": [
        " The general form taken by the RBF function is the Guassian Kernel Function. \n",
        "The experssion for Gaussian function is as follows:\n",
        "\n",
        "> ![Screenshot 2022-06-22 171439.jpg](data:image/jpeg;base64,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)\n",
        "\n",
        "\n",
        " \n",
        "\n",
        "*   v is vector denoting centre of function.\n",
        "*   σ is the variance that is width parameter. \n",
        "\n",
        "*   x is the input \n",
        "\n",
        "\n"
      ],
      "metadata": {
        "id": "0jQy8KxkNsoY"
      }
    },
    {
      "cell_type": "code",
      "source": [
        "import enum\n",
        "#Guassian kernel function G, is calculated here:  \n",
        "\n",
        "def G(x_train,c,s):\n",
        "  gauss_matrix = np.zeros((x_train.shape[0],c.shape[0]),float)\n",
        "  for c_ind, centre in enumerate(c):\n",
        "    for train_ind,train_d in enumerate(x_train):\n",
        "      distance = norm(train_d-centre)**2\n",
        "      measure = np.exp(-distance/(2*(s**2)))\n",
        "      gauss_matrix[train_ind,c_ind] = measure\n",
        "\n",
        "  return gauss_matrix\n",
        "\n"
      ],
      "metadata": {
        "id": "Y8fdYXdouA15"
      },
      "execution_count": null,
      "outputs": []
    },
    {
      "cell_type": "markdown",
      "source": [
        "We have,\n",
        "\n",
        " $D = GW$\n",
        "\n",
        "$G=G^{-1} D$\n",
        "\n",
        "G is not a square matrix and so W is expressed as:\n",
        "\n",
        "$W = G^+ D$\n",
        "\n",
        "\n",
        "$G^+$ denotes pseudo inverse matrix of G \n",
        "\n",
        "\n"
      ],
      "metadata": {
        "id": "Vt6jSmPhS1y5"
      }
    },
    {
      "cell_type": "code",
      "source": [
        "#Weight matrix has been calculated here: \n",
        "def W(x_train,c,s,y_train):\n",
        "  input_g = G(x_train,c,s)\n",
        "  weight = np.dot(pinv(input_g),y_train)\n",
        "  return weight\n",
        "\n",
        "#Now we will calculate the output of the RBF network by the function named Output\n",
        "def Output(x_train,c,s,weight):\n",
        "  testing = G(x_train,c,s)\n",
        "  output = np.dot(testing,weight)\n",
        "  return output"
      ],
      "metadata": {
        "id": "LbZIzJI43xsN"
      },
      "execution_count": null,
      "outputs": []
    },
    {
      "cell_type": "code",
      "source": [
        "from os import error\n",
        "s_values = [0.01,0.02,0.1,0.2,0.3,0.4,0.5,0.6,0.7,0.8,0.9,1,5,10]\n",
        "accuracy = []\n",
        "error_rate = []\n",
        "\n",
        "for v in s_values:\n",
        "  weight = W(x_train,x_train,v,y_train)\n",
        "  y_output = Output(x_test,x_train,v,weight)\n",
        "  y_pred = np.sign(y_output)\n",
        "  acc = np.mean(y_test == y_pred)\n",
        "  accuracy.append(acc)\n",
        "  err = np.square(y_test - y_pred).mean()\n",
        "  error_rate.append(err)\n",
        "\n",
        "print(\"Values of Sigma:\",s_values)\n",
        "print(\"Accuracy:\", accuracy)\n",
        "print(\"Error rate:\", error_rate)"
      ],
      "metadata": {
        "colab": {
          "base_uri": "https://localhost:8080/"
        },
        "id": "l58pbAWG5pKn",
        "outputId": "31e4e0fe-4e70-4574-a4f9-c3fc98cc6956"
      },
      "execution_count": null,
      "outputs": [
        {
          "output_type": "stream",
          "name": "stdout",
          "text": [
            "Values of Sigma: [0.01, 0.02, 0.1, 0.2, 0.3, 0.4, 0.5, 0.6, 0.7, 0.8, 0.9, 1, 5, 10]\n",
            "Accuracy: [0.651685393258427, 0.6853932584269663, 0.6853932584269663, 0.651685393258427, 0.5280898876404494, 0.47191011235955055, 0.5168539325842697, 0.5730337078651685, 0.550561797752809, 0.6292134831460674, 0.6741573033707865, 0.6179775280898876, 0.7752808988764045, 0.7752808988764045]\n",
            "Error rate: [1.3932584269662922, 1.2584269662921348, 1.2584269662921348, 1.3932584269662922, 1.8876404494382022, 2.1123595505617976, 1.9325842696629214, 1.7078651685393258, 1.797752808988764, 1.4831460674157304, 1.303370786516854, 1.5280898876404494, 0.898876404494382, 0.898876404494382]\n"
          ]
        }
      ]
    },
    {
      "cell_type": "code",
      "source": [
        "#Plotting the graph for sigma value and corresponding accuracy\n",
        "plt.plot(s_values,accuracy)\n",
        "plt.title(\"Test Accuracy\")\n",
        "plt.xlabel(\"values of Sigma\")\n",
        "plt.ylabel(\"Accuracy\")\n"
      ],
      "metadata": {
        "colab": {
          "base_uri": "https://localhost:8080/",
          "height": 312
        },
        "id": "c6PR3-lY8nTC",
        "outputId": "873b2fcf-46be-4ba5-f7d5-292d4a663ff2"
      },
      "execution_count": null,
      "outputs": [
        {
          "output_type": "execute_result",
          "data": {
            "text/plain": [
              "Text(0, 0.5, 'Accuracy')"
            ]
          },
          "metadata": {},
          "execution_count": 83
        },
        {
          "output_type": "display_data",
          "data": {
            "text/plain": [
              "<Figure size 432x288 with 1 Axes>"
            ],
            "image/png": "[encoded data removed]"
          },
          "metadata": {
            "needs_background": "light"
          }
        }
      ]
    },
    {
      "cell_type": "code",
      "source": [
        "#Plotting graph for sigma values and corresponding error rate\n",
        "plt.plot(s_values,error_rate)\n",
        "plt.title(\"Test Error\")\n",
        "plt.xlabel(\"values of Sigma\")\n",
        "plt.ylabel(\"Error - Mean Squared Error\")"
      ],
      "metadata": {
        "colab": {
          "base_uri": "https://localhost:8080/",
          "height": 312
        },
        "id": "rh2xbmDf9SEg",
        "outputId": "6eb08034-bfdd-4e1d-f1d7-ef4b7130b598"
      },
      "execution_count": null,
      "outputs": [
        {
          "output_type": "execute_result",
          "data": {
            "text/plain": [
              "Text(0, 0.5, 'Error - Mean Squared Error')"
            ]
          },
          "metadata": {},
          "execution_count": 84
        },
        {
          "output_type": "display_data",
          "data": {
            "text/plain": [
              "<Figure size 432x288 with 1 Axes>"
            ],
            "image/png": "[encoded data removed]"
          },
          "metadata": {
            "needs_background": "light"
          }
        }
      ]
    },
    {
      "cell_type": "markdown",
      "source": [
        "\n",
        "### Q3-Part 1 - All the datapoints are considered as centres \n",
        "*   It is evident from the graph of Accuracy and Sigma that the accuracy of network starts with a good percentage of around 75 and then after sigma value crosses 0.2, the accuraccy keeps decreasing to around 50% and then take up the peak after 0.8 and increases till 5 and remains contant after that.So we can choose the value of sigma as 5 as it gives the best accuracy of 77%. \n",
        "\n",
        "\n",
        "*    From the Graph of error and sigma shows the similar trend. The lowest error is at the value 5, and then remains constant. The worst case is between 0 and 1.     \n",
        "\n"
      ],
      "metadata": {
        "id": "zlSRhK8WcPot"
      }
    },
    {
      "cell_type": "markdown",
      "source": [
        "### Q3-Part 2a - Choosing randomly 150 centre. "
      ],
      "metadata": {
        "id": "njukE5aoenjH"
      }
    },
    {
      "cell_type": "code",
      "source": [
        "#Now for Q3-Part 2a\n",
        "X_train = x_train.tolist()\n",
        "#Here we randomly choose 150 centres and converting to array.  \n",
        "random_c = random.sample(X_train,150)\n",
        "random_C = np.array(random_c)\n",
        "#We update the weights\n",
        "w_150 = W(x_train,random_C,5,y_train)\n",
        "y_output_150 = Output(x_test,random_C,5,w_150)\n",
        "#We predict the new output based on the choosen centres.\n",
        "y_pred_150 = np.sign(y_output_150)\n",
        "#The accuracy and error has been perdicted \n",
        "err_150 = np.square(y_test - y_pred_150).mean()\n",
        "acc_150 = round(np.mean(y_test == y_pred_150),4)\n",
        "\n",
        "print(\"Accuracy is\",acc_150)\n",
        "print(\"Error rate is\",err_150)\n"
      ],
      "metadata": {
        "colab": {
          "base_uri": "https://localhost:8080/"
        },
        "id": "UEHB50V19upp",
        "outputId": "db5f5c9b-fd3b-42bc-f8c5-6fd466f41bef"
      },
      "execution_count": null,
      "outputs": [
        {
          "output_type": "stream",
          "name": "stdout",
          "text": [
            "Accuracy is 0.7753\n",
            "Error rate is 0.898876404494382\n"
          ]
        }
      ]
    },
    {
      "cell_type": "markdown",
      "source": [
        "Here we see that the accuracy is decreases a little bit compared to the previous network where all the datapoints were considered as the centre.Here 150 centres are chosen randomly and so the error has hiked up a lot to 0.89. \n",
        "This shows that the previous network was better.  "
      ],
      "metadata": {
        "id": "4YzT2dU8eAca"
      }
    },
    {
      "cell_type": "markdown",
      "source": [
        "### Q3-Part 2b - Choosing 150 data centres using K-Means clustering."
      ],
      "metadata": {
        "id": "2LxFGtQxfLa2"
      }
    },
    {
      "cell_type": "code",
      "source": [
        "#Now for Q3-Part 2b\n",
        "#Predefined function is available for performing K-Means.\n",
        "kmean = KMeans(n_clusters=150, random_state=275).fit(x_train)\n",
        "c_k = kmean.cluster_centers_\n",
        "C_k = np.array(c_k)\n",
        "#Again updating the weights according to the centres selected by K-Means\n",
        "#Value of sigma has been considered 5 as it gave the best accuracy in Part 1\n",
        "w_k = W(x_train,C_k,5,y_train)\n",
        "y_output_k = Output(x_test,C_k,5,w_k)\n",
        "y_pred_k = np.sign(y_output_k)\n",
        "#Calculating the accuracy and error to quantify the network \n",
        "err_k = np.square(y_test - y_pred_k).mean()\n",
        "acc_k = round(np.mean(y_test == y_pred_k),4)\n",
        "\n",
        "print(\"Accuracy using K-means is\",acc_k)\n",
        "print(\"Error rate using K-means is\",err_k)"
      ],
      "metadata": {
        "colab": {
          "base_uri": "https://localhost:8080/"
        },
        "id": "NnAlL5-PAjcp",
        "outputId": "25959918-3d87-41fa-e185-b4b2ec5317a7"
      },
      "execution_count": null,
      "outputs": [
        {
          "output_type": "stream",
          "name": "stdout",
          "text": [
            "Accuracy using K-means is 0.7753\n",
            "Error rate using K-means is 0.898876404494382\n"
          ]
        }
      ]
    },
    {
      "cell_type": "markdown",
      "source": [
        "The Acccuracy and Error rate is the same as the previous network where 150 cluseters were chosen randomly. Though it can be observed that the accuracy has not been decreased from Case 1. "
      ],
      "metadata": {
        "id": "_D5ndXtFhH5a"
      }
    }
  ]
}